{
 "cells": [
  {
   "cell_type": "markdown",
   "metadata": {},
   "source": [
    "\\appendix\n",
    "\n",
    "# Appendix\n"
   ]
  },
  {
   "cell_type": "markdown",
   "metadata": {},
   "source": [
    "## Structuring a Scientific Project\n",
    "\n",
    "The below are important highlights from [*A Quick Guide to Organizing Computational Biology Projects*](http://journals.plos.org/ploscompbiol/article?id=10.1371/journal.pcbi.1000424#pcbi-1000424-g001) by William Noble.\n",
    "\n",
    "> It is generally a good idea to store all of the files relevant to one project under a common root directory.\n",
    "\n",
    "> use a top-level organization that is logical, with chronological organization at the next level, and logical organization below that\n",
    "\n",
    "\n",
    "\\begin{figure}\n",
    "\\fbox{\\includegraphics[width=1\\linewidth]{assets/graphics/journal-pcbi-1000424-g001.png}}\n",
    "\\caption{Structuring a Scientific Project}\n",
    "\\end{figure}\n",
    "\n",
    "> In parallel with this chronological directory structure, I find it useful to maintain a chronologically organized lab notebook. This is a document that resides in the root of the results directory and that records your progress in detail. Entries in the notebook should be dated, and they should be relatively verbose, with links or embedded images or tables displaying the results of the experiments that you performed.\n",
    "\n",
    "### Carrying Out a Single Experiment\n",
    "> record every operation that you perform\n",
    "\n",
    "> create either a README file, in which I store every command line that I used while performing the experi- ment, or a driver script (I usually call this runall) that carries out the entire exper- iment automatically\n",
    "\n",
    "> I work in a combination of shell scripts, Python, and C\n",
    "\n",
    "> Whatever you decide, you should end up with a file that is parallel to the lab notebook entry\n",
    "\n",
    "> Here are some rules of thumb that I try to follow when developing the driver script:\n",
    "\n",
    "> 1. Record every operation that you per- form.\n",
    "\n",
    "> 2. Comment generously.\n",
    "\n",
    "> 3. Avoid editing intermediate files by hand.\n",
    "\n",
    "> Many simple editing opera- tions can be performed using standard Unix utilities such as sed, awk, grep, head, tail, sort, cut, and paste.\n",
    "\n",
    "> 4. Store all file and directory names in this script.\n",
    "\n",
    "> 5. Use relative pathnames to access other files within the same project.\n",
    "\n",
    "> 6. Make the script restartable.\n",
    "\n",
    "> For experiments that take a long time to run, I find it useful to be able to obtain a summary of the experiment’s progress thus far.\n",
    "\n",
    "### Command Lines versus Scripts versus Programs\n",
    "\n",
    "> 1. Driver Script\n",
    "\n",
    "> 2. Single-use Script\n",
    "\n",
    "> 3. Project-specific script\n",
    "\n",
    "> 4. Multi-project script.\n",
    "\n",
    "> Regardless of how general a script is supposed to be, it should have a clearly documented interface.\n",
    "\n",
    "### The Value of Version Control\n",
    "> provides a form of backup\n",
    "\n",
    "> version control provides a historical record that can be useful for tracking down bugs or understanding old results.\n",
    "\n",
    "> invaluable for collaborative projects\n",
    "\n",
    "> changes should be checked in at least once a day\n",
    "\n",
    "> it is possible to check in your changes on a ‘‘branch’’ of the project\n",
    "\n",
    "> should only be used for files that you edit by hand\n"
   ]
  },
  {
   "cell_type": "code",
   "execution_count": null,
   "metadata": {
    "collapsed": true
   },
   "outputs": [],
   "source": []
  }
 ],
 "metadata": {
  "kernelspec": {
   "display_name": "Python 2",
   "language": "python",
   "name": "python2"
  },
  "language_info": {
   "codemirror_mode": {
    "name": "ipython",
    "version": 2
   },
   "file_extension": ".py",
   "mimetype": "text/x-python",
   "name": "python",
   "nbconvert_exporter": "python",
   "pygments_lexer": "ipython2",
   "version": "2.7.11"
  }
 },
 "nbformat": 4,
 "nbformat_minor": 0
}
