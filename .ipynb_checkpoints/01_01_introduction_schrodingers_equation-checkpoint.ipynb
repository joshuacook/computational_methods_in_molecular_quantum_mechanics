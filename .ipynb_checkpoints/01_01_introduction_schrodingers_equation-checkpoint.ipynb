{
 "cells": [
  {
   "cell_type": "markdown",
   "metadata": {},
   "source": [
    "\\mainmatter\n",
    "\n",
    "# Introduction \n",
    "\n",
    "## Schrödinger's Equation\n",
    "A dynamic quantum mechanical system\n",
    "is governed by a linear partial differential equation\n",
    "[@olver2014introduction;@strauss1992partial]. Developed by Erwin Schrödinger\n",
    "and named for him, the equation is written\n",
    "\n",
    "$$i\\hbar\\frac{\\partial \\psi}{\\partial t}=H\\psi$$ {#eq:time_dependent_schrodinger}\n",
    "\n",
    "where $i=\\sqrt{-1}$, $\\hbar$ is Planck's constant, $H$ is the\n",
    "self-adjoint\\footnote{The adjoint of a linear operator $L$ is the unique\n",
    "linear operator $L^*$ that satisfies $\\llangle L[u],v\\rrangle = \\langle u,L^*v\\rangle$\n",
    "An operator is called self-adjoint if $L=L^*$. For a self-adjoint operator, the\n",
    "eigenvalues are real and the eigenvectors for distinct eigenvalues are orthogonal.\n",
    "Even where there is degeneracy in the eigenvalues, it is always possible for form\n",
    "a complete basis set of orthogonal eigenvectors.},\n",
    "linear operator known as the Hamiltonian, and $\\psi$ is a wave function corresponding to\n",
    "a quantum mechanical state of the system."
   ]
  },
  {
   "cell_type": "markdown",
   "metadata": {},
   "source": [
    "An eigenequation\n",
    "is a relationship describing a vector or function that is invariant with respect to a\n",
    "given linear operator. Given a linear operator $\\Gamma: \\mathbb{F}^n \\to \\mathbb{F}^n$,\n",
    "$\\lambda$ and $\\psi$ are said to be an eigenvalue and eigenvector respectively of\n",
    "$\\Gamma$, if\n",
    "\n",
    "$$\\Gamma\\psi=\\lambda\\psi \\text{ for } \\psi\\neq0$$ {#eq:eigenequation}"
   ]
  },
  {
   "cell_type": "markdown",
   "metadata": {},
   "source": [
    "Schrödinger's equation can be written independent of time as\n",
    "\n",
    "$$H\\psi=E\\psi$$ {#eq:time_independent_schrodinger}\n",
    "\n",
    "and takes the form of an eigenequation. Then, solutions are sets of eigenfunctions\n",
    "representing quantum states, their corresponding eigenvalues representing energy levels."
   ]
  },
  {
   "cell_type": "markdown",
   "metadata": {},
   "source": [
    "In fact, these eigenfunctions are \\emph{wave functions}, the most complete description that can be given of a physical system. Wave functions equate to the probability that a given measurement will result from a single measurement of an observable\\footnote{It is part and parcel of the inherent strangeness of quantum mechanics that we can not describe a quantum system more accurately than by a measure of probability. More precisely, for a wavefunction $\\phi(\\mathbf{r})$, the probability that $\\mathbf{r}$ is returned by a measurement is $p:=\\rvert \\phi(\\mathbf{r})\\rvert^2$.}."
   ]
  },
  {
   "cell_type": "markdown",
   "metadata": {},
   "source": [
    "Most treatments of quantum mechanics delineate a set of postulates\n",
    "[@atkins2011molecular;@Eloranta:quantum;@singer2006linearity] necessary in the\n",
    "formulation of quantum mechanics. For our purposes suffice it to assume that wave functions:\n",
    "\n",
    "1. are functions\n",
    "2. are continous and differentiable\n",
    "3. are finite valued\n",
    "4. are normal\\footnote{Note that this fact combined with the self-adjointness of the\n",
    "operators we are working with combine to give us \\emph{orthonormal} wave functions.}\n"
   ]
  }
 ],
 "metadata": {
  "kernelspec": {
   "display_name": "Python 2",
   "language": "python",
   "name": "python2"
  },
  "language_info": {
   "codemirror_mode": {
    "name": "ipython",
    "version": 2
   },
   "file_extension": ".py",
   "mimetype": "text/x-python",
   "name": "python",
   "nbconvert_exporter": "python",
   "pygments_lexer": "ipython2",
   "version": "2.7.11"
  }
 },
 "nbformat": 4,
 "nbformat_minor": 0
}
