{
 "cells": [
  {
   "cell_type": "markdown",
   "metadata": {},
   "source": [
    "\\newcommand{\\vecu}{\\mathbf{u}}\n",
    "\n",
    "\\newcommand{\\ddx}{\\frac{d}{dx}}"
   ]
  },
  {
   "cell_type": "markdown",
   "metadata": {},
   "source": [
    "## Discrete Representations\n",
    "\n",
    "At the core of this work is the analogy between discrete and continuous mathematics ---\n",
    "matrix equations and differential equations. The time-independent Schrödinger equation ([@eq:time_independent_schrodinger]) \n",
    "is essentially the second-order differential equation \n",
    "\n",
    "$$H\\psi=E\\psi \\implies -\\frac{d^2 }{dx^2}\\psi=\\lambda \\psi$$ {#eq:second_order_diff_eqn}\n",
    "\n",
    "generally solved by $y=\\cos \\omega x$ and $y=\\sin\\omega x$ with $\\lambda =\\omega^2$. \n",
    "\n",
    "\n",
    "Analogously, we consider the matrix equation (and eigenproblem)\n",
    "\n",
    "$$ - D\\mathbf{u} = \\lambda \\mathbf{u}$$ {#eq:second_difference_eigenproblem}\n",
    "\n",
    "where $D$ represents a difference matrix with a specific set of boundary conditions, \n",
    "$\\mathbf{u}$ is an eigenvector, and $\\lambda$ is an eigenvalue. "
   ]
  },
  {
   "cell_type": "markdown",
   "metadata": {},
   "source": [
    "### Representing a Vector in `numpy`\n",
    "\n",
    "It helps to begin to think of this in terms of how we might represent a function in `numpy`.\n",
    "Here, we represent the linear function, $f(x)=x$ as $\\vecu$ as an evenly spaced vector \n",
    "from 0 to 1 with steps of $h=0.1$. \n",
    "\n",
    "```python\n",
    "In [1]: import numpy\n",
    "\n",
    "In [2]: u = numpy.linspace(0,1,11)\n",
    "\n",
    "In [3]: u\n",
    "Out[3]: array([ 0. ,  0.1,  0.2,  0.3,  0.4,  0.5,  0.6,  0.7,  0.8,  0.9,  1. ])\n",
    "```"
   ]
  },
  {
   "cell_type": "markdown",
   "metadata": {},
   "source": [
    "### Finite Differences\n",
    "\n",
    "Consider the derivative:\n",
    "\n",
    "$$f'(x)=\\lim_{h\\to 0} \\frac{f(x+h)-f(x)}{h}$$ {#eq:first_derivative}\n",
    "\n",
    "It is not possible to represent a function $f: \\mathbb{R} \\to \\mathbb{R}$ computationally \n",
    "because computers are discrete in nature and require discrete representation. Nor is it\n",
    "possible to symbolically represent an operation like taking the derivative. \n",
    "Toward a discrete representation, we consider our function as a vector and then look at the \n",
    "finite difference method, representing the derivative as a difference operator. \n",
    "\n",
    "Toward the difference operator we take\n",
    "\n",
    "$$f'(x)\\approx \\frac{f(x+h)-f(x)}{h}$$ {#eq:first_difference}\n",
    "\n",
    "Recalling that $\\vecu[0]\\approx f(0.0)$, \n",
    "$\\vecu[1]\\approx f(0.1)$, $\\vecu[2]\\approx f(0.2)$\\dots,\n",
    "\n",
    "\\begin{align*}\n",
    "\\ddx\\vecu[0] &= \\frac{1}{0.1}\\left(\\vecu[1] -\\vecu[0]\\right) = 1\\\\\n",
    "\\ddx\\vecu[1] &= \\frac{1}{0.1}\\left(\\vecu[2] -\\vecu[1]\\right) = 1\\\\\n",
    "\\ddx\\vecu[2] &= \\frac{1}{0.1}\\left(\\vecu[3] -\\vecu[2]\\right) = 1\\\\\n",
    "&\\dots\\\\\n",
    "\\ddx\\vecu[9] &= \\frac{1}{0.01}\\left(\\vecu[10] -\\vecu[9]\\right) = 1\\\\\n",
    "\\ddx\\vecu[10] &= \\frac{1}{0.01}\\left(\\vecu[11] -\\vecu[10]\\right) = 1\\\\\n",
    "\\end{align*}\n",
    "\n",
    "More generally, \n",
    "\n",
    "$$\\frac{d}{dx}\\mathbf{u}[x] \\approx \\frac{1}{h}\\left(\\mathbf{u}[x+h]-\\mathbf{u}[x]\\right)=\n",
    "\\frac{1}{h}\\left(\n",
    "\\begin{matrix}\n",
    "1 & -1 &  0 & \\dots & 0 & 0 & 0 \\\\\n",
    "0 & -1 & 1 & \\dots &  0 & 0 & 0 \\\\\n",
    "\\vdots & \\ & \\ & \\ddots & \\ & \\ & \\vdots \\\\\n",
    "0 & 0 & 0 & \\dots & 1 & -1 & 0 \\\\\n",
    "0 & 0 & 0 & \\dots & 0 & 1 & -1 \\\\\n",
    "\\end{matrix}\\right)\\mathbf{u}=A \\mathbf{u}\n",
    "$$ {#eq:first_difference_equation}\n",
    "\n",
    "Then the first derivative can be approximated by this matrix\n",
    "\n",
    "$$\\frac{d}{dx} \\approx A = \n",
    "\\frac{1}{h}\\left(\\begin{matrix}\n",
    "1 & -1 &  0 & \\dots & 0 & 0 & 0 \\\\\n",
    "0 & -1 & 1 & \\dots &  0 & 0 & 0 \\\\\n",
    "\\vdots & \\ & \\ & \\ddots & \\ & \\ & \\vdots \\\\\n",
    "0 & 0 & 0 & \\dots & 1 & -1 & 0 \\\\\n",
    "0 & 0 & 0 & \\dots & 0 & 1 & -1 \\\\\n",
    "\\end{matrix}\\right)\n",
    "$$ {#eq:first_difference_operator}\n",
    "\n",
    "\\pagebreak"
   ]
  },
  {
   "cell_type": "markdown",
   "metadata": {},
   "source": [
    "###  Toward Second Difference Operator\n",
    "\n",
    "Consider \n",
    "\n",
    "\\begin{align*}\n",
    "f''(x) &\\approx \\frac{f'(x+h)-f'(x-h)}{2h}\\\\\n",
    "&\\approx \\frac{\\frac{f(x+h)-f(x)}{2h}-\\frac{f(x)-f(x-h)}{2h}}{2h}\\\\\n",
    "&\\approx \\frac{f(x+h) - 2f(x) + f(x-h)}{h^2}\\tag{with $2h$ recast as $h$}\n",
    "\\end{align*}\n",
    "\n",
    "$$f''(x)\\approx \\frac{1}{h^2}\\left(f(x+h) - 2f(x) + f(x-h)\\right)$$  {#eq:second_difference}\n",
    "\n",
    "Now consider the following discrete representation\n",
    "\n",
    "```\n",
    "          |  2 -1  0  0  0  0  0  0  0  0  0 | |0.00| = |-|\n",
    "          | -1  2 -1  0  0  0  0  0  0  0  0 | |0.01| = |2| \n",
    "          |  0 -1  2 -1  0  0  0  0  0  0  0 | |0.04| = |2|\n",
    "          |  0  0 -1  2 -1  0  0  0  0  0  0 | |0.09| = |2|\n",
    "          |  0  0  0 -1  2 -1  0  0  0  0  0 | |0.16| = |2|\n",
    "-1/(.01)  |  0  0  0  0 -1  2 -1  0  0  0  0 | |0.25| = |2|\n",
    "          |  0  0  0  0  0 -1  2 -1  0  0  0 | |0.36| = |2|\n",
    "          |  0  0  0  0  0  0 -1  2 -1  0  0 | |0.49| = |2|\n",
    "          |  0  0  0  0  0  0  0 -1  2 -1  0 | |0.64| = |2|\n",
    "          |  0  0  0  0  0  0  0  0 -1  2 -1 | |0.81| = |2|\n",
    "          |  0  0  0  0  0  0  0  0  0 -1  2 | |1.00| = |-|\n",
    "```\n",
    "\n",
    "Note that the vector being multiplied by the matrix corresponds to the values of $f(x)=x^2$ at $x=0.0,0.1,0.2,\\dots,0.8,0.9,1.0$. Note that the matrix is being multiplied by $\\frac{1}{h^2}=\\frac{1}{.01}$ where $h=0.1$ or the step of our vector representing $f(x)$. Note that the returned value is the constant 2 which corresponds to $f''(x)=2$.\n",
    "\n"
   ]
  },
  {
   "cell_type": "code",
   "execution_count": null,
   "metadata": {
    "collapsed": true
   },
   "outputs": [],
   "source": []
  }
 ],
 "metadata": {
  "kernelspec": {
   "display_name": "Python 2",
   "language": "python",
   "name": "python2"
  },
  "language_info": {
   "codemirror_mode": {
    "name": "ipython",
    "version": 2
   },
   "file_extension": ".py",
   "mimetype": "text/x-python",
   "name": "python",
   "nbconvert_exporter": "python",
   "pygments_lexer": "ipython2",
   "version": "2.7.11"
  }
 },
 "nbformat": 4,
 "nbformat_minor": 0
}
