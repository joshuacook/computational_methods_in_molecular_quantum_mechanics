{
 "cells": [
  {
   "cell_type": "markdown",
   "metadata": {
    "collapsed": true
   },
   "source": [
    "## Particle in a Box\n",
    "\n",
    "Central to Schrödinger's formulation \n",
    "is the requirement of boundary conditions. A quantum mechanical problem with no boundary conditions is ill defined\\footnote{see the Ultraviolet Catastrophe}. Furthermore, the quantization of the system falls out of the required bound conditions."
   ]
  },
  {
   "cell_type": "markdown",
   "metadata": {},
   "source": [
    "The simplest characterization of a quantum system is the so called \"Particle in a Box\" problem in one dimension. Here, the potential energy within a confined range (say from 0 to $a$) is set to zero and the potential energy outside of the range, infinite. The Hamiltonian then becomes\n",
    "\n",
    " $$\n",
    "   H = T + V =  \\left\\{\n",
    "     \\begin{array}{lr}\n",
    "       -\\frac{\\hbar^2}{2m}\\nabla^2 & : x \\in (0,a)\\\\\n",
    "       \\infty & : x \\notin (0,a)\n",
    "     \\end{array}\n",
    "   \\right.\n",
    "$$ {#eq:hamiltonian_particle_in_a_box}"
   ]
  },
  {
   "cell_type": "markdown",
   "metadata": {},
   "source": [
    "Note that this characterization provides the boundary conditions required for quantization, \n",
    "namely that $\\psi(0)=\\psi(a)=0$. Intuitively, we can easily reason that if the potential \n",
    "energy at 0 and at $a$ is infinite, then the probability that a particle will be at 0 \n",
    "or at $a$ is nil. We can use these bounds to solve the time-independent \n",
    "Schrödinger equation in one-dimension.\n",
    "\n",
    "$$-\\frac{\\hbar^2}{2m}\\nabla^2 \\psi(x) = E\\psi(x)$$ {#eq:particle_in_a_box_eigenequation}\n",
    "\n",
    "$$- \\psi''(x) = \\frac{2Em}{\\hbar^2}\\psi(x)$$ {#eq:particle_in_a_box_intermediate}\n",
    "\n",
    "$$-\\psi''(x)= \\lambda^2\\psi(x)\\ \\text{ where } \n",
    "\\lambda=\\frac{\\sqrt{2mE}}{\\hbar}$$ {#eq:solution_particle_in_a_box}"
   ]
  },
  {
   "cell_type": "markdown",
   "metadata": {},
   "source": [
    "This equation has solutions of the form $\\psi(x)=A\\sin(\\lambda x)$ where \n",
    "$\\lambda =\\frac{n\\pi}{a}$, $n\\in\\mathbb{N}$. Recalling that we require normality \n",
    "in our wavefunctions, we can find $A$. \n",
    "\n",
    "$$\\left\\langle A\\sin\\left(\\frac{n\\pi}{a} x\\right) \n",
    "\\bigg\\rvert A\\sin\\left(\\frac{n\\pi}{a} x\\right)\\right\\rangle = 1\n",
    "\\implies A =\\sqrt{\\frac{2}{a}}\n",
    "$$ {#eq:adjointness_finds_lambda}"
   ]
  },
  {
   "cell_type": "markdown",
   "metadata": {},
   "source": [
    "Then, we have the eigenfunctions, \n",
    "$\\psi(x)=\\sqrt{\\frac{2}{a}}\\sin\\left(\\frac{n\\pi}{a} x\\right)$ with corresponding \n",
    "eigenvalue energy levels $E=\\frac{n^2\\pi^2\\hbar^2}{2ma^2}$. Note that the energy can only \n",
    "take values defined by the eigenproblem, $E_1=\\frac{\\pi^2\\hbar^2}{2ma^2}$, \n",
    "$E_2=\\frac{4\\pi^2\\hbar^2}{2ma^2}$, ... In other words, the energy is discrete and not \n",
    "continuous. It is quantized. Furthermore, it is of note that there is no \"zero\". The lowest\n",
    "possible value for the energy, the \"ground\" state, is $E_1=\\frac{\\pi^2\\hbar^2}{2ma^2}$.\n",
    "\n",
    "\\vfill"
   ]
  },
  {
   "cell_type": "markdown",
   "metadata": {},
   "source": [
    "![Wave Functions \\& Energies in a 1-D Box](assets/graphics/1dbox-geo.png)\n",
    "\n",
    "<img src=\"assets/graphics/n.png\" width=100px>\n",
    "\n",
    "![Probability Distributions in a 1-D Box](assets/graphics/1dbox-prob.png)\n",
    "\n",
    "<!-- \\begin{figure}[h]\n",
    "\\minipage{0.32\\textwidth}\n",
    "\\includegraphics[width=\\textwidth]{assets/graphics/1dbox-geo.png}\n",
    "\\caption{Wave Functions \\& Energies in a 1-D Box}\n",
    "\\endminipage\\hfill\n",
    "\\minipage{0.32\\textwidth}\n",
    "\\centering\n",
    "\\includegraphics[width=1in]{assets/graphics/n.png}\n",
    "\\endminipage\\hfill\n",
    "\\minipage{0.32\\textwidth}\n",
    "\\includegraphics[width=\\textwidth]{assets/graphics/1dbox-prob.png}\n",
    "\\caption{Probability Distributions in a 1-D Box}\n",
    "\\endminipage\\hfill\n",
    "\\end{figure} \n",
    "-->"
   ]
  },
  {
   "cell_type": "markdown",
   "metadata": {},
   "source": [
    "The wave function should not be interpreted as some sort of function of space and time. \n",
    "This is a solution to the time-independent Schrödinger equation and describes a *steady-state*. \n",
    "Recall that the solutions should be used to generate probability distributions. \n",
    "Then when the energy corresponds to $E_i$, $p:=\\rvert\\psi_i\\rvert^2$ describes the probability \n",
    "that the particle will be found at a given location. \n",
    "\n"
   ]
  }
 ],
 "metadata": {
  "kernelspec": {
   "display_name": "Python 2",
   "language": "python",
   "name": "python2"
  },
  "language_info": {
   "codemirror_mode": {
    "name": "ipython",
    "version": 2
   },
   "file_extension": ".py",
   "mimetype": "text/x-python",
   "name": "python",
   "nbconvert_exporter": "python",
   "pygments_lexer": "ipython2",
   "version": "2.7.11"
  }
 },
 "nbformat": 4,
 "nbformat_minor": 0
}
