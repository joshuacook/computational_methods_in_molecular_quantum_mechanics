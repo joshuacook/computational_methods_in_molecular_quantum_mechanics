{
 "cells": [
  {
   "cell_type": "code",
   "execution_count": 9,
   "metadata": {
    "collapsed": false,
    "scrolled": true
   },
   "outputs": [
    {
     "data": {
      "text/plain": [
       "['00_meta.ipynb',\n",
       " '01_01_introduction_schrodingers_equation.ipynb',\n",
       " '01_02_introduction_historical_background.ipynb',\n",
       " '01_03_introduction_particle_in_a_1D_box.ipynb',\n",
       " '01_04_introduction_particle_in_a_2d_box.ipynb',\n",
       " '01_05_introduction_discrete_representations.ipynb',\n",
       " '01_06_introduction_cse.ipynb',\n",
       " '02_01_power_method_solving.ipynb',\n",
       " '02_02_power_method_iterative_techniques.ipynb',\n",
       " '03_itp.ipynb',\n",
       " '0A_01_Appendix_sci_proj.ipynb',\n",
       " '0A_02_Appendix_glossary.ipynb',\n",
       " '0A_03_Appendix_software.ipynb',\n",
       " '0A_04_Appendix_docker.ipynb',\n",
       " '0Z_References.ipynb']"
      ]
     },
     "execution_count": 9,
     "metadata": {},
     "output_type": "execute_result"
    }
   ],
   "source": [
    "import os\n",
    "import pypandoc\n",
    "import subprocess\n",
    "ipy = [f for f in os.listdir('.')[1:] if os.path.splitext(f)[1] == '.ipynb']\n",
    "ipy"
   ]
  },
  {
   "cell_type": "code",
   "execution_count": 10,
   "metadata": {
    "collapsed": false
   },
   "outputs": [],
   "source": [
    "for f in ipy:\n",
    "    os.system(\"jupyter nbconvert {} --to markdown\".format(f))\n",
    "\n",
    "markdown_files = [f for f in os.listdir('.') if os.path.splitext(f)[1] == '.md']\n",
    "markdown_files = ' '.join(markdown_files)"
   ]
  },
  {
   "cell_type": "code",
   "execution_count": 11,
   "metadata": {
    "collapsed": false
   },
   "outputs": [],
   "source": [
    "extra_args=['--latex-engine=xelatex',\n",
    "            \"-V fontsize=12pt\",\n",
    "            \"-H  'preamble.txt'\",\n",
    "            \"-V documentclass:book\",\n",
    "            \"-V --chapters\"]\n",
    "extra_args = ' '.join(extra_args)"
   ]
  },
  {
   "cell_type": "code",
   "execution_count": 4,
   "metadata": {
    "collapsed": true
   },
   "outputs": [],
   "source": [
    "filters = \"--filter pandoc-crossref --bibliography=bib.bib\""
   ]
  },
  {
   "cell_type": "code",
   "execution_count": 12,
   "metadata": {
    "collapsed": false
   },
   "outputs": [],
   "source": [
    "pandoc_string_pdf = str(\"pandoc \" + markdown_files +' '+ extra_args +' '+ filters + ' -o ' + \"comp_chem.pdf\")"
   ]
  },
  {
   "cell_type": "code",
   "execution_count": 6,
   "metadata": {
    "collapsed": false
   },
   "outputs": [
    {
     "data": {
      "text/plain": [
       "''"
      ]
     },
     "execution_count": 6,
     "metadata": {},
     "output_type": "execute_result"
    }
   ],
   "source": [
    "# os.system(str(\"pandoc                 \" +\n",
    "#               \"--latex-engine=xelatex \" + \n",
    "#               \"-V fontsize=12pt       \" +\n",
    "#               \"-H  preamble.txt       \" +              \n",
    "#               \"-V documentclass:book  \" +\n",
    "#               \"-V --chapters          \" +\n",
    "#               \"--filter pandoc-eqnos  \" + \n",
    "#               \"--bibliography=bib.bib \" +\n",
    "#               ' '.join(md) + \" -o comp_chem.pdf\"))    \n",
    "subprocess.check_output(\n",
    "    pandoc_string_pdf,\n",
    "    stderr=subprocess.STDOUT,\n",
    "    shell=True)"
   ]
  },
  {
   "cell_type": "code",
   "execution_count": 8,
   "metadata": {
    "collapsed": false
   },
   "outputs": [],
   "source": [
    "for m in [f for f in os.listdir('.') if os.path.splitext(f)[1] == '.md']:\n",
    "    os.remove(m)"
   ]
  },
  {
   "cell_type": "code",
   "execution_count": 13,
   "metadata": {
    "collapsed": false
   },
   "outputs": [
    {
     "data": {
      "text/plain": [
       "\"pandoc 00_meta.md 01_01_introduction_schrodingers_equation.md 01_02_introduction_historical_background.md 01_03_introduction_particle_in_a_1D_box.md 01_04_introduction_particle_in_a_2d_box.md 01_05_introduction_discrete_representations.md 01_06_introduction_cse.md 02_01_power_method_solving.md 02_02_power_method_iterative_techniques.md 03_itp.md 0A_01_Appendix_sci_proj.md 0A_02_Appendix_glossary.md 0A_03_Appendix_software.md 0A_04_Appendix_docker.md 0Z_References.md --latex-engine=xelatex -V fontsize=12pt -H  'preamble.txt' -V documentclass:book -V --chapters --filter pandoc-crossref --bibliography=bib.bib -o comp_chem.pdf\""
      ]
     },
     "execution_count": 13,
     "metadata": {},
     "output_type": "execute_result"
    }
   ],
   "source": [
    "pandoc_string_pdf"
   ]
  },
  {
   "cell_type": "code",
   "execution_count": null,
   "metadata": {
    "collapsed": true
   },
   "outputs": [],
   "source": []
  }
 ],
 "metadata": {
  "kernelspec": {
   "display_name": "Python 2",
   "language": "python",
   "name": "python2"
  },
  "language_info": {
   "codemirror_mode": {
    "name": "ipython",
    "version": 2
   },
   "file_extension": ".py",
   "mimetype": "text/x-python",
   "name": "python",
   "nbconvert_exporter": "python",
   "pygments_lexer": "ipython2",
   "version": "2.7.11"
  }
 },
 "nbformat": 4,
 "nbformat_minor": 0
}
