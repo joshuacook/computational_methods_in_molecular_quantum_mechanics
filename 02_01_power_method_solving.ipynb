{
 "cells": [
  {
   "cell_type": "markdown",
   "metadata": {},
   "source": []
  },
  {
   "cell_type": "markdown",
   "metadata": {},
   "source": [
    "# Power Method"
   ]
  },
  {
   "cell_type": "markdown",
   "metadata": {},
   "source": [
    "## Solving Molecular Quantum Mechanics Problems Computationally\n",
    "\n",
    "At its essence the work in Dr. Eloranta's lab is an extension of the simple power method for finding an eigenvector. \n",
    "Also known as the Von Mises Iteration, the simple power method operates on a few well conditionings, all of which \n",
    "are satisfied by our Hamiltonian matrices --- namely we require self-adjoint matrices, and all that this implies. \n",
    "\n",
    "The power method will only return the dominant eigenvector of an operator. Essentially, the next vector in the iteration\n",
    "is calculated by multiplying the current vector by the matrix being examined and then normalizing.\n",
    "\n",
    "\\vfill\n",
    "\n",
    "\\pagebreak\n"
   ]
  },
  {
   "cell_type": "markdown",
   "metadata": {},
   "source": [
    "## Simple Power Method\n",
    "\n",
    "1. Choose a starting vector $\\mathbf{x}^{(0)}\\in\\mathbb{R}^n$ with\n",
    "$\\rvert\\rvert\\mathbf{x}^{(0)}\\rvert\\rvert=1$.\n",
    "2. $k=0$\n",
    "3. `while` some convergence criteria is not satisfied\n",
    "\n",
    "    i. $k:=k+1$\n",
    "    ii. $\\mathbf{y}^{(k)}:=A\\mathbf{x}^{(k-1)}$\n",
    "    iii. $\\mu_k:=\\rvert\\rvert\\mathbf{y}^{(k)}\\rvert\\rvert$\n",
    "    iv. $\\mathbf{x}^{(k)}:=\\mathbf{y}^{(k)}/\\mu_k$\n",
    "\n",
    "The eigenvalue can be found by calculating\n",
    "\n",
    "\\begin{align*}\n",
    "\\lambda u &= A u\\\\\n",
    "u^T\\lambda u &= u^TA u\\\\\n",
    "\\lambda &= u^TAu \\tag{because $u$ is normalized}\n",
    "\\end{align*}\n",
    "\n",
    "\\vfill\n",
    "\n",
    "\\pagebreak\n",
    "\n",
    "Here we define an iteration and that iterate 100 times to find our the eigenvector associated with the largest eigenvalue.\n",
    "\n",
    "```\n",
    "def power_iteration(A,u,n):\n",
    "  for i in range(n):\n",
    "    u      = A.dot(u)\n",
    "    mu     = numpy.sqrt(u.dot(u))\n",
    "    u      = u/mu\n",
    "  eigvec = u\n",
    "  eigval = eigval = u.dot(A.dot(u))\n",
    "  return eigval, eigvec\n",
    "\n",
    "In [1]: import numpy, scipy.linalg, numpy.random\n",
    "\n",
    "In [2]: B = numpy.random.rand(4,4)\n",
    "\n",
    "In [3]: C = B.dot(B.T) # returns a symmetric matrix\n",
    "\n",
    "In [4]: y = numpy.random.rand(4)\n",
    "\n",
    "In [5]: power_iteration(C,u,100)\n",
    "Out[5]: (5.4509787314661642,\n",
    " array([ 0.57243721,  0.54380344,  0.38428034,  0.47845802]))\n",
    "\n",
    "In [6]: scipy.linalg.eigh(C,eigvals=(3,3))\n",
    "Out[6]:\n",
    "(array([ 5.45097873]), \n",
    " array([[-0.57243721],\n",
    "        [-0.54380344],\n",
    "        [-0.38428034],\n",
    "        [-0.47845802]]))\n",
    "```\n"
   ]
  },
  {
   "cell_type": "markdown",
   "metadata": {},
   "source": [
    "### Comparison of Timing\n",
    "\n",
    "```\n",
    "In [7]: %timeit power_iteration(C,u,100)\n",
    "1000 loops, best of 3: 351 µs per loop\n",
    "\n",
    "In [8]: %timeit scipy.linalg.eigh(C,eigvals=(3,3))\n",
    "The slowest run took 6.32 times longer than the fastest. \n",
    "This could mean that an intermediate result is being cached\n",
    "10000 loops, best of 3: 26 µs per loop\n",
    "```\n",
    "\n",
    "It is shown that our power iteration is considerably slower than the built-in eigensolver. We are, however, hard coding the number of iterations required. \n"
   ]
  },
  {
   "cell_type": "markdown",
   "metadata": {},
   "source": [
    "### Stopping Criteria\n",
    "\n",
    "It would behoove us to explore a better stopping criteria than simply iterate 100 times. Toward this we propose the use of the norm of the residual vector\n",
    "\n",
    "$$\\mathbf{r}=A\\vecu^*-\\lambda^*\\vecu^*$$ \n",
    "\n",
    "We can then stop our calculation when $\\rvert\\rvert\\mathbf r \\rvert\\rvert<\\epsilon$ for any desired $\\epsilon$.\n",
    "\n",
    "```\n",
    "def power_iteration(A,u,n,eps=0.00001):\n",
    "  r_mag = 1\n",
    "  while(r_mag > eps):\n",
    "    u      = A.dot(u)\n",
    "    mu     = numpy.sqrt(u.dot(u))\n",
    "    u      = u/mu\n",
    "    eigval = eigval = u.dot(A.dot(u))\n",
    "    r      = A.dot(u)-eigval*u\n",
    "    r_mag  = numpy.sqrt(r.dot(r))\n",
    "  eigvec = u\n",
    "  return eigval, eigvec\n",
    "\n",
    "In [9]: %timeit power_iteration(C,u,100)\n",
    "The slowest run took 6.79 times longer than the fastest. \n",
    "This could mean that an intermediate result is being cached\n",
    "10000 loops, best of 3: 42.9 µs per loop\n",
    "```\n",
    "\n",
    "While we are not beating the built-in solver, we are certainly within an order of magnitude and are satisfied with these results. \n"
   ]
  }
 ],
 "metadata": {
  "kernelspec": {
   "display_name": "Python 2",
   "language": "python",
   "name": "python2"
  },
  "language_info": {
   "codemirror_mode": {
    "name": "ipython",
    "version": 2
   },
   "file_extension": ".py",
   "mimetype": "text/x-python",
   "name": "python",
   "nbconvert_exporter": "python",
   "pygments_lexer": "ipython2",
   "version": "2.7.11"
  }
 },
 "nbformat": 4,
 "nbformat_minor": 0
}
