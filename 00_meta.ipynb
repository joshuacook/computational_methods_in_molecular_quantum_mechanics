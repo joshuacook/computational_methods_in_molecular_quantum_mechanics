{
 "cells": [
  {
   "cell_type": "markdown",
   "metadata": {},
   "source": [
    "\\frontmatter\n",
    "\n",
    "\\begin{titlepage}\n",
    "    \\begin{center}\n",
    "           \n",
    "       \\large{ \\textbf{ \\uppercase{Computational Methods in \\\\ Molecular Quantum Mechanics}}}\n",
    "        \n",
    "        \\vspace{0.5cm}\n",
    "        \n",
    "        \\vspace{1.5cm}\n",
    "        \n",
    "        \\vspace{0.8cm}        \n",
    "         \n",
    "        by\\\\        \n",
    "        \\textbf{Joshua Cook}           \n",
    "       \n",
    "\n",
    "        \n",
    "        \n",
    "        \\vfill\n",
    "  \n",
    "        2015\n",
    "        \n",
    " \n",
    " \n",
    "     \\end{center}\n",
    "    \\thispagestyle{empty}\n",
    "\\end{titlepage} \n",
    "\n",
    "\\newpage\n",
    "\\thispagestyle{empty}\n",
    "\\mbox{}\n"
   ]
  },
  {
   "cell_type": "markdown",
   "metadata": {},
   "source": [
    "# Summary\n",
    "This work deals with computational mathematics applied to problems in modern quantum chemistry, including the diagonalization of large matrices. We use the Jupyter platform and its power over `numpy/scipy`  in order to make the difficult accessible. "
   ]
  },
  {
   "cell_type": "markdown",
   "metadata": {},
   "source": [
    "\\tableofcontents"
   ]
  }
 ],
 "metadata": {
  "kernelspec": {
   "display_name": "Python 2",
   "language": "python",
   "name": "python2"
  },
  "language_info": {
   "codemirror_mode": {
    "name": "ipython",
    "version": 2
   },
   "file_extension": ".py",
   "mimetype": "text/x-python",
   "name": "python",
   "nbconvert_exporter": "python",
   "pygments_lexer": "ipython2",
   "version": "2.7.11"
  }
 },
 "nbformat": 4,
 "nbformat_minor": 0
}
