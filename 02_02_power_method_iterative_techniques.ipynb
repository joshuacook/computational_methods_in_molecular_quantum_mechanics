{
 "cells": [
  {
   "cell_type": "markdown",
   "metadata": {},
   "source": [
    "## Iterative Techniques\n",
    "\n",
    "vector norm \n",
    ":   a function from $\\R^n$ to $\\R$\n",
    "\n",
    ":   $l_2$ norm is also called the Euclidean norm\n",
    "\n",
    ":   $\\rvert\\rvert \\mathbf{x} \\rvert\\rvert_2 = \\left(\\sum_{i=1}^nx_i^2\\right)^{1/2}$\n",
    "\n",
    "convergence\n",
    ":   A sequence $\\left\\{\\mathbf{x}^{(k)}\\right\\}_{k=1}^\\infty$ of vectors in $\\R^n$ is said to converge to $\\mathbf{x}$ with respect to the norm $\\rvert\\rvert \\cdot \\rvert\\rvert<\\epsilon$, if given any $\\epsilon>0$, there exists an integer $N(\\epsilon)$ such that \n",
    "\n",
    "    $$\\rvert\\rvert\\mathbf{x}^{(k)}-\\mathbf{x}\\rvert\\rvert<\\epsilon\n",
    "      \\text{, for all }k\\geq N(\\epsilon)$$\n",
    "\n",
    "spectral radius\n",
    ":   the spectral radius of a matrix $A$ is defined by \n",
    "\n",
    "    $$\\rho(A)=\\max\\rvert\\lambda\\rvert|$$\n",
    "\n",
    "    where $\\lambda$ is an eigenvalue of $A$.\n",
    "\n",
    "convergent matrices\n",
    ":   an $n$ by $n$ matrix is convergent if for all $1\\leq i,j \\leq n$ \n",
    "\n",
    "    $$\\lim_{k\\to\\infty}(A^k)_{ij}=0$$\n"
   ]
  },
  {
   "cell_type": "code",
   "execution_count": null,
   "metadata": {
    "collapsed": true
   },
   "outputs": [],
   "source": []
  }
 ],
 "metadata": {
  "kernelspec": {
   "display_name": "Python 2",
   "language": "python",
   "name": "python2"
  },
  "language_info": {
   "codemirror_mode": {
    "name": "ipython",
    "version": 2
   },
   "file_extension": ".py",
   "mimetype": "text/x-python",
   "name": "python",
   "nbconvert_exporter": "python",
   "pygments_lexer": "ipython2",
   "version": "2.7.11"
  }
 },
 "nbformat": 4,
 "nbformat_minor": 0
}
